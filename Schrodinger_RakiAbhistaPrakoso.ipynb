{
  "nbformat": 4,
  "nbformat_minor": 0,
  "metadata": {
    "colab": {
      "provenance": [],
      "authorship_tag": "ABX9TyPgEc+4hOarY/sdUdbiiwKN",
      "include_colab_link": true
    },
    "kernelspec": {
      "name": "python3",
      "display_name": "Python 3"
    },
    "language_info": {
      "name": "python"
    }
  },
  "cells": [
    {
      "cell_type": "markdown",
      "metadata": {
        "id": "view-in-github",
        "colab_type": "text"
      },
      "source": [
        "<a href=\"https://colab.research.google.com/github/RevethS/Schrodinger_SIC/blob/main/Schrodinger_RakiAbhistaPrakoso.ipynb\" target=\"_parent\"><img src=\"https://colab.research.google.com/assets/colab-badge.svg\" alt=\"Open In Colab\"/></a>"
      ]
    },
    {
      "cell_type": "code",
      "execution_count": null,
      "metadata": {
        "colab": {
          "base_uri": "https://localhost:8080/"
        },
        "id": "2TG77Hj7ieLS",
        "outputId": "e168321a-41d9-434c-dfc2-3e18a8b468c6"
      },
      "outputs": [
        {
          "output_type": "stream",
          "name": "stdout",
          "text": [
            "Nama Produk 1 = Kopi Pagi\n",
            "Harga Produk 1 = 18000.5\n",
            "Nama Produk 1 = Roti Coklat\n",
            "Harga Produk 1 = 10000\n"
          ]
        }
      ],
      "source": [
        "nama_produk1 = \"Kopi Pagi\"\n",
        "harga_produk1 = 18000.5\n",
        "nama_produk2 = \"Roti Coklat\"\n",
        "harga_produk2 = 10000\n",
        "print(f\"Nama Produk 1 = {nama_produk1}\")\n",
        "print(f\"Harga Produk 1 = {harga_produk1}\")\n",
        "print(f\"Nama Produk 1 = {nama_produk2}\")\n",
        "print(f\"Harga Produk 1 = {harga_produk2}\")"
      ]
    },
    {
      "cell_type": "code",
      "source": [
        "\n",
        "jumlah_kopi_str = input(\"Masukkan jumlah pesanan kopi: \")\n",
        "jumlah_roti_str = input(\"Masukkan jumlah pesanan roti: \")\n",
        "\n",
        "print(\"Tipe data awal jumlah kopi:\", type(jumlah_kopi_str))\n",
        "print(\"Tipe data awal jumlah roti:\", type(jumlah_roti_str))\n",
        "\n",
        "jumlah_kopi_int = int(jumlah_kopi_str)\n",
        "jumlah_roti_int = int(jumlah_roti_str)\n",
        "\n",
        "print(\"Tipe data setelah konversi jumlah kopi:\", type(jumlah_kopi_int))\n",
        "print(\"Tipe data setelah konversi jumlah roti:\", type(jumlah_roti_int))"
      ],
      "metadata": {
        "colab": {
          "base_uri": "https://localhost:8080/"
        },
        "id": "5NKJcr6DnYjc",
        "outputId": "2a3b753d-f601-418b-d64f-739810386277"
      },
      "execution_count": null,
      "outputs": [
        {
          "output_type": "stream",
          "name": "stdout",
          "text": [
            "Masukkan jumlah pesanan kopi: 2\n",
            "Masukkan jumlah pesanan roti: 3\n",
            "Tipe data awal jumlah kopi: <class 'str'>\n",
            "Tipe data awal jumlah roti: <class 'str'>\n",
            "Tipe data setelah konversi jumlah kopi: <class 'int'>\n",
            "Tipe data setelah konversi jumlah roti: <class 'int'>\n"
          ]
        }
      ]
    },
    {
      "cell_type": "code",
      "source": [
        "total_harga_kopi = harga_kopi * jumlah_kopi_int\n",
        "total_harga_roti = harga_roti * jumlah_roti_int\n",
        "total_belanja = total_harga_kopi + total_harga_roti\n",
        "\n",
        "uang_bayar = 50000\n",
        "kembalian = uang_bayar - total_belanja\n",
        "\n",
        "print(\"Total harga kopi:\", total_harga_kopi)\n",
        "print(\"Total harga roti:\", total_harga_roti)\n",
        "print(\"Total belanja keseluruhan:\", total_belanja)\n",
        "print(\"Uang yang dibayarkan:\", uang_bayar)\n",
        "print(\"Kembalian:\", kembalian)"
      ],
      "metadata": {
        "colab": {
          "base_uri": "https://localhost:8080/"
        },
        "id": "eXCyR4VdpmJC",
        "outputId": "c006152d-5c83-45be-8af3-5e6e9b3f6a62"
      },
      "execution_count": null,
      "outputs": [
        {
          "output_type": "stream",
          "name": "stdout",
          "text": [
            "Total harga kopi: 36001.0\n",
            "Total harga roti: 30000\n",
            "Total belanja keseluruhan: 66001.0\n",
            "Uang yang dibayarkan: 50000\n",
            "Kembalian: -16001.0\n"
          ]
        }
      ]
    },
    {
      "cell_type": "code",
      "source": [
        "nama_pelanggan = input(\"Masukkan nama pelanggan: \")\n",
        "pesan_terima_kasih = \"Terima kasih, \" + nama_pelanggan + \" sudah berbelanja di Coffee Shop Bahagia!\"\n",
        "\n",
        "print(\"*\" * 25)\n",
        "print(pesan_terima_kasih)\n",
        "print(\"*\" * 25)\n",
        "print(f\"Total harga Kopi Pagi adalah Rp{total_harga_kopi}\")"
      ],
      "metadata": {
        "colab": {
          "base_uri": "https://localhost:8080/"
        },
        "id": "zeARTIKkqE2c",
        "outputId": "0d42f93a-f8ee-490f-df71-f05337493ed1"
      },
      "execution_count": null,
      "outputs": [
        {
          "output_type": "stream",
          "name": "stdout",
          "text": [
            "Masukkan nama pelanggan: Akbar\n",
            "*************************\n",
            "Terima kasih, Akbar sudah berbelanja di Coffee Shop Bahagia!\n",
            "*************************\n",
            "Total harga Kopi Pagi adalah Rp36001.0\n"
          ]
        }
      ]
    }
  ]
}